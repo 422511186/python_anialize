{
 "cells": [
  {
   "cell_type": "code",
   "execution_count": 1,
   "id": "2abe57de",
   "metadata": {
    "pycharm": {
     "name": "#%%\n"
    }
   },
   "outputs": [],
   "source": [
    "import numpy as np\n",
    "import pandas as pd"
   ]
  },
  {
   "cell_type": "code",
   "execution_count": 2,
   "id": "2a91de2e",
   "metadata": {},
   "outputs": [],
   "source": [
    "s = pd.DataFrame(np.random.randn(6, 4),\n",
    "                 columns=['A', 'B', 'C', 'D'],\n",
    "                 index=['2018-03-10', '2018-03-11', '2018-03-12', '2018-03-13',\n",
    "                        '2018-03-14', '2018-03-15'])"
   ]
  },
  {
   "cell_type": "code",
   "execution_count": 3,
   "id": "a87388e5",
   "metadata": {
    "scrolled": true
   },
   "outputs": [
    {
     "name": "stdout",
     "output_type": "stream",
     "text": [
      "                   A         B         C         D\n",
      "2018-03-10  1.191139  0.025212  1.515925 -0.591287\n",
      "2018-03-11 -0.177752  0.098604  0.701496  0.314800\n",
      "2018-03-12  0.654034 -1.807192  1.163400 -2.919780\n",
      "2018-03-13 -0.717393 -1.178690 -0.488421  0.111549\n"
     ]
    }
   ],
   "source": [
    "print(s.iloc[0:4])"
   ]
  },
  {
   "cell_type": "code",
   "execution_count": 4,
   "metadata": {
    "collapsed": false,
    "pycharm": {
     "name": "#%%\n"
    }
   },
   "outputs": [
    {
     "name": "stdout",
     "output_type": "stream",
     "text": [
      "                   A         B         C         D\n",
      "2018-03-10  1.191139  0.025212  1.515925 -0.591287\n",
      "2018-03-11 -0.177752  0.098604  0.701496  0.314800\n",
      "2018-03-12  0.654034 -1.807192  1.163400 -2.919780\n",
      "2018-03-13 -0.717393 -1.178690 -0.488421  0.111549\n",
      "2018-03-14 -0.166205  0.401704 -0.081632  0.825730\n",
      "2018-03-15 -1.372211 -0.628797  0.153573  1.954539\n"
     ]
    }
   ],
   "source": [
    "print(s)"
   ]
  },
  {
   "cell_type": "code",
   "execution_count": 5,
   "metadata": {
    "collapsed": false,
    "pycharm": {
     "name": "#%%\n"
    }
   },
   "outputs": [
    {
     "name": "stdout",
     "output_type": "stream",
     "text": [
      "A   -0.177752\n",
      "B    0.098604\n",
      "C    0.701496\n",
      "D    0.314800\n",
      "Name: 2018-03-11, dtype: float64\n",
      "A   -0.717393\n",
      "B   -1.178690\n",
      "C   -0.488421\n",
      "D    0.111549\n",
      "Name: 2018-03-13, dtype: float64\n"
     ]
    }
   ],
   "source": [
    "print(s.loc[\"2018-03-11\"])\n",
    "print(s.loc[\"2018-03-13\"])"
   ]
  },
  {
   "cell_type": "code",
   "execution_count": 6,
   "id": "733090de",
   "metadata": {},
   "outputs": [
    {
     "name": "stdout",
     "output_type": "stream",
     "text": [
      "                   B\n",
      "2018-03-10  0.025212\n",
      "2018-03-11  0.098604\n",
      "2018-03-12 -1.807192\n",
      "2018-03-13 -1.178690\n",
      "2018-03-14  0.401704\n",
      "2018-03-15 -0.628797\n"
     ]
    }
   ],
   "source": [
    "print(s[['B']])"
   ]
  },
  {
   "cell_type": "code",
   "execution_count": 7,
   "id": "5a540e0c",
   "metadata": {
    "pycharm": {
     "name": "#%%\n"
    }
   },
   "outputs": [
    {
     "name": "stdout",
     "output_type": "stream",
     "text": [
      "                   A         C\n",
      "2018-03-13 -0.717393 -0.488421\n",
      "2018-03-14 -0.166205 -0.081632\n",
      "2018-03-15 -1.372211  0.153573\n"
     ]
    }
   ],
   "source": [
    "print(s.iloc[3:6, [0, 2] ])"
   ]
  },
  {
   "cell_type": "code",
   "execution_count": 8,
   "id": "7f94ddbc",
   "metadata": {},
   "outputs": [],
   "source": [
    "value = [np.nan]*6\n",
    "s.insert(loc=4, column='F', value=value)"
   ]
  },
  {
   "cell_type": "code",
   "execution_count": 9,
   "id": "94276518",
   "metadata": {
    "pycharm": {
     "name": "#%%\n"
    }
   },
   "outputs": [
    {
     "name": "stdout",
     "output_type": "stream",
     "text": [
      "                   A         B         C         D   F\n",
      "2018-03-10  1.191139  0.025212  1.515925 -0.591287 NaN\n",
      "2018-03-11 -0.177752  0.098604  0.701496  0.314800 NaN\n",
      "2018-03-12  0.654034 -1.807192  1.163400 -2.919780 NaN\n",
      "2018-03-13 -0.717393 -1.178690 -0.488421  0.111549 NaN\n",
      "2018-03-14 -0.166205  0.401704 -0.081632  0.825730 NaN\n",
      "2018-03-15 -1.372211 -0.628797  0.153573  1.954539 NaN\n"
     ]
    }
   ],
   "source": [
    "print(s)"
   ]
  },
  {
   "cell_type": "code",
   "execution_count": 10,
   "id": "f9505dcd",
   "metadata": {},
   "outputs": [
    {
     "name": "stdout",
     "output_type": "stream",
     "text": [
      "                   A         B         C         D    F\n",
      "2018-03-10  1.191139  0.025212  1.515925 -0.591287  1.0\n",
      "2018-03-11 -0.177752  0.098604  0.701496  0.314800  1.0\n",
      "2018-03-12  0.654034 -1.807192  1.163400 -2.919780  1.0\n",
      "2018-03-13 -0.717393 -1.178690 -0.488421  0.111549  1.0\n",
      "2018-03-14 -0.166205  0.401704 -0.081632  0.825730  1.0\n",
      "2018-03-15 -1.372211 -0.628797  0.153573  1.954539  1.0\n"
     ]
    }
   ],
   "source": [
    "for i in range(len(s)):\n",
    "    s.iloc[i, -1] = 1\n",
    "print(s)"
   ]
  },
  {
   "cell_type": "code",
   "execution_count": 11,
   "id": "36aeeb3f",
   "metadata": {},
   "outputs": [],
   "source": [
    "company=[\"A\",\"B\",\"C\"]\n",
    "\n",
    "data=pd.DataFrame({\n",
    "\n",
    "    \"company\":[company[x] for x in np.random.randint(0,len(company),10)],\n",
    "\n",
    "    \"salary\":np.random.randint(5,50,10),\n",
    "\n",
    "    \"age\":np.random.randint(15,50,10)\n",
    "\n",
    "}\n",
    "\n",
    ")"
   ]
  },
  {
   "cell_type": "code",
   "execution_count": 12,
   "id": "0823f0ba",
   "metadata": {},
   "outputs": [
    {
     "name": "stdout",
     "output_type": "stream",
     "text": [
      "  company  salary  age\n",
      "0       B      34   16\n",
      "1       B      28   23\n",
      "2       C       5   45\n",
      "3       C      36   31\n",
      "4       B      26   43\n",
      "5       B      17   44\n",
      "6       A      39   38\n",
      "7       B      32   49\n",
      "8       A      31   42\n",
      "9       B      17   45\n"
     ]
    }
   ],
   "source": [
    "print(data)"
   ]
  },
  {
   "cell_type": "code",
   "execution_count": 13,
   "id": "65805f96",
   "metadata": {
    "pycharm": {
     "name": "#%%\n"
    }
   },
   "outputs": [
    {
     "name": "stdout",
     "output_type": "stream",
     "text": [
      "            salary        age\n",
      "company                      \n",
      "A        35.000000  40.000000\n",
      "B        25.666667  36.666667\n",
      "C        20.500000  38.000000\n"
     ]
    }
   ],
   "source": [
    "print(data.groupby('company').mean())"
   ]
  },
  {
   "cell_type": "code",
   "execution_count": 14,
   "id": "962d12a3",
   "metadata": {
    "pycharm": {
     "name": "#%%\n"
    }
   },
   "outputs": [
    {
     "name": "stdout",
     "output_type": "stream",
     "text": [
      "         salary   age\n",
      "company              \n",
      "A          35.0  40.0\n",
      "B          27.0  43.5\n",
      "C          20.5  38.0\n"
     ]
    }
   ],
   "source": [
    "print(data.groupby('company').median())\n"
   ]
  },
  {
   "cell_type": "code",
   "execution_count": 15,
   "id": "7e082f32",
   "metadata": {},
   "outputs": [],
   "source": [
    "def demean(x):\n",
    "    return x - x.mean()"
   ]
  },
  {
   "cell_type": "code",
   "execution_count": 16,
   "id": "0d0580fc",
   "metadata": {},
   "outputs": [],
   "source": [
    "#data.groupby('company')['salary'].transfrom('demean')"
   ]
  },
  {
   "cell_type": "code",
   "execution_count": 17,
   "id": "b900ec6a",
   "metadata": {
    "pycharm": {
     "name": "#%%\n"
    }
   },
   "outputs": [
    {
     "name": "stdout",
     "output_type": "stream",
     "text": [
      "company\n",
      "A    35.000000\n",
      "B    25.666667\n",
      "C    20.500000\n",
      "Name: salary, dtype: float64\n",
      "0 -1.0\n",
      "1 -7.0\n",
      "2 -30.0\n",
      "3 1.0\n",
      "4 -9.0\n",
      "5 -18.0\n",
      "6 4.0\n",
      "7 -3.0\n",
      "8 -4.0\n",
      "9 -18.0\n"
     ]
    }
   ],
   "source": [
    "salaryMean = data.groupby('company', as_index=True).mean()['salary']\n",
    "print(salaryMean)\n",
    "\n",
    "for i in range(len(data)):\n",
    "    print(i, data.iloc[i, 1] - salaryMean['A'])"
   ]
  }
 ],
 "metadata": {
  "kernelspec": {
   "display_name": "Python 3 (ipykernel)",
   "language": "python",
   "name": "python3"
  },
  "language_info": {
   "codemirror_mode": {
    "name": "ipython",
    "version": 3
   },
   "file_extension": ".py",
   "mimetype": "text/x-python",
   "name": "python",
   "nbconvert_exporter": "python",
   "pygments_lexer": "ipython3",
   "version": "3.9.4"
  }
 },
 "nbformat": 4,
 "nbformat_minor": 5
}