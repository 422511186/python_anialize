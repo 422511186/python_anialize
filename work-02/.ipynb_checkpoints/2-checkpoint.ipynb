{
 "cells": [
  {
   "cell_type": "code",
   "execution_count": 33,
   "metadata": {},
   "outputs": [],
   "source": [
    "import numpy as np\n",
    "import pandas as pd\n",
    "from pyecharts import options as opts\n",
    "from pyecharts.charts import Bar"
   ]
  },
  {
   "cell_type": "code",
   "execution_count": 34,
   "metadata": {
    "pycharm": {
     "name": "#%%\n"
    }
   },
   "outputs": [
    {
     "name": "stdout",
     "output_type": "stream",
     "text": [
      "    排名 国家/地区  金牌  银牌  铜牌  总数\n",
      "1    2    德国  12  10   5  27\n",
      "2    3    中国   9   4   2  15\n",
      "3    4    美国   8  10   7  25\n",
      "4    5    瑞典   8   5   5  18\n",
      "5    6    荷兰   8   5   4  17\n",
      "6    7   奥地利   7   7   4  18\n",
      "7    8    瑞士   7   2   5  14\n",
      "8    9   ROC   6  12  14  32\n",
      "9   10    法国   5   7   2  14\n",
      "10  11   加拿大   4   8  14  26\n"
     ]
    }
   ],
   "source": [
    "w_Olympic = pd.read_csv('./data/冬奥会奖牌榜.csv')\n",
    "# print(type(w_Olympic))\n",
    "# print(w_Olympic)\n",
    "res = w_Olympic.iloc[1:11]\n",
    "print(res)\n",
    "l1 = np.array(res['国家/地区']).tolist()\n",
    "l2 = np.array(res['金牌']).tolist()\n",
    "l3 = np.array(res['总数']).tolist()\n"
   ]
  },
  {
   "cell_type": "code",
   "execution_count": 35,
   "metadata": {
    "pycharm": {
     "name": "#%%\n"
    }
   },
   "outputs": [
    {
     "data": {
      "text/plain": [
       "'E:\\\\Python_workspace\\\\数据分析\\\\work-02\\\\index.html'"
      ]
     },
     "execution_count": 35,
     "metadata": {},
     "output_type": "execute_result"
    }
   ],
   "source": [
    "bar = (\n",
    "    Bar()\n",
    "    .add_xaxis(l1)\n",
    "    .add_yaxis(\"金牌\", l2)\n",
    "    .add_yaxis(\"总数\", l3)\n",
    "    .set_global_opts(title_opts=opts.TitleOpts(title=\"奖牌榜\"),\n",
    "                    toolbox_opts=opts.BrushOpts(),)\n",
    ")\n",
    "# bar.render_notebook()\n",
    "bar.render(\"index.html\")"
   ]
  },
  {
   "cell_type": "code",
   "execution_count": 36,
   "metadata": {},
   "outputs": [],
   "source": [
    "#安装可视化包\n",
    "import matplotlib.pyplot as plt"
   ]
  },
  {
   "cell_type": "code",
   "execution_count": 37,
   "metadata": {
    "pycharm": {
     "name": "#%%\n"
    }
   },
   "outputs": [
    {
     "ename": "TypeError",
     "evalue": "cannot unpack non-iterable AxesSubplot object",
     "output_type": "error",
     "traceback": [
      "\u001b[1;31m---------------------------------------------------------------------------\u001b[0m",
      "\u001b[1;31mTypeError\u001b[0m                                 Traceback (most recent call last)",
      "Input \u001b[1;32mIn [37]\u001b[0m, in \u001b[0;36m<cell line: 1>\u001b[1;34m()\u001b[0m\n\u001b[1;32m----> 1\u001b[0m fig,axe \u001b[38;5;241m=\u001b[39m plt\u001b[38;5;241m.\u001b[39msubplot()\n\u001b[0;32m      2\u001b[0m index \u001b[38;5;241m=\u001b[39m np\u001b[38;5;241m.\u001b[39marange(\u001b[38;5;241m10\u001b[39m)\n\u001b[0;32m      3\u001b[0m width \u001b[38;5;241m=\u001b[39m \u001b[38;5;241m0.4\u001b[39m\n",
      "\u001b[1;31mTypeError\u001b[0m: cannot unpack non-iterable AxesSubplot object"
     ]
    },
    {
     "data": {
      "image/png": "[encoded data removed]",
      "text/plain": [
       "<Figure size 432x288 with 1 Axes>"
      ]
     },
     "metadata": {
      "needs_background": "light"
     },
     "output_type": "display_data"
    }
   ],
   "source": [
    "fig,axe = plt.subplot()\n",
    "index = np.arange(10)\n",
    "width = 0.4\n",
    "axe.bar (index, tuple(l2), width, color='c', align = 'center', label='金牌')\n",
    "axe.bar (index, tuple(l3), width, color='b', align = 'edge', label='总数')\n",
    "axe.set_xticks(index + width/2)\n",
    "axe.set_xticklables(tuple(l1))\n",
    "axe.legend()\n",
    "plt.show()\n"
   ]
  },
  {
   "cell_type": "code",
   "execution_count": null,
   "metadata": {
    "pycharm": {
     "name": "#%%\n"
    }
   },
   "outputs": [],
   "source": []
  },
  {
   "cell_type": "code",
   "execution_count": null,
   "metadata": {},
   "outputs": [],
   "source": []
  }
 ],
 "metadata": {
  "kernelspec": {
   "display_name": "Python 3 (ipykernel)",
   "language": "python",
   "name": "python3"
  },
  "language_info": {
   "codemirror_mode": {
    "name": "ipython",
    "version": 3
   },
   "file_extension": ".py",
   "mimetype": "text/x-python",
   "name": "python",
   "nbconvert_exporter": "python",
   "pygments_lexer": "ipython3",
   "version": "3.9.4"
  }
 },
 "nbformat": 4,
 "nbformat_minor": 1
}
