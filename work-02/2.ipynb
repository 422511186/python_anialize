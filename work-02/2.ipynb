{
 "cells": [
  {
   "cell_type": "code",
   "execution_count": 1,
   "metadata": {},
   "outputs": [],
   "source": [
    "import numpy as np\n",
    "import pandas as pd"
   ]
  },
  {
   "cell_type": "code",
   "execution_count": 2,
   "metadata": {
    "pycharm": {
     "name": "#%%\n"
    }
   },
   "outputs": [
    {
     "name": "stdout",
     "output_type": "stream",
     "text": [
      "   排名 国家/地区  金牌  银牌  铜牌  总数\n",
      "0   1    挪威  16   8  13  37\n",
      "1   2    德国  12  10   5  27\n",
      "2   3    中国   9   4   2  15\n",
      "3   4    美国   8  10   7  25\n",
      "4   5    瑞典   8   5   5  18\n",
      "5   6    荷兰   8   5   4  17\n",
      "6   7   奥地利   7   7   4  18\n",
      "7   8    瑞士   7   2   5  14\n",
      "8   9   ROC   6  12  14  32\n",
      "9  10    法国   5   7   2  14\n"
     ]
    }
   ],
   "source": [
    "w_Olympic = pd.read_csv('./data/冬奥会奖牌榜.csv')\n",
    "# print(type(w_Olympic))\n",
    "# print(w_Olympic)\n",
    "res = w_Olympic.iloc[0:10]\n",
    "print(res)"
   ]
  },
  {
   "cell_type": "code",
   "execution_count": 3,
   "metadata": {
    "pycharm": {
     "name": "#%%\n"
    }
   },
   "outputs": [],
   "source": [
    "#处理数据\n",
    "l1 = np.array(res['国家/地区']).tolist()\n",
    "l2 = np.array(res['金牌']).tolist()\n",
    "l3 = np.array(res['总数']).tolist()"
   ]
  },
  {
   "cell_type": "code",
   "execution_count": 4,
   "metadata": {
    "pycharm": {
     "name": "#%%\n"
    }
   },
   "outputs": [],
   "source": [
    "from pyecharts import options as opts\n",
    "from pyecharts.charts import Bar"
   ]
  },
  {
   "cell_type": "code",
   "execution_count": 5,
   "metadata": {
    "pycharm": {
     "name": "#%%\n"
    }
   },
   "outputs": [
    {
     "data": {
      "text/plain": "'D:\\\\WorkSpace\\\\Python_workspace\\\\数据分析\\\\work-02\\\\index.html'"
     },
     "execution_count": 5,
     "metadata": {},
     "output_type": "execute_result"
    }
   ],
   "source": [
    "#使用pycharts画图\n",
    "bar = (\n",
    "    Bar()\n",
    "        .add_xaxis(l1)\n",
    "        .add_yaxis(\"金牌\", l2)\n",
    "        .add_yaxis(\"总数\", l3)\n",
    "        .set_global_opts(title_opts=opts.TitleOpts(title=\"奖牌榜\"), toolbox_opts=opts.BrushOpts(), )\n",
    ")\n",
    "bar.render_notebook()\n",
    "bar.render(\"index.html\")  #导出html"
   ]
  },
  {
   "cell_type": "code",
   "execution_count": 6,
   "outputs": [],
   "source": [
    "# 1.\n",
    "#安装包\n",
    "import matplotlib.pyplot as plt"
   ],
   "metadata": {
    "collapsed": false,
    "pycharm": {
     "name": "#%%\n"
    }
   }
  },
  {
   "cell_type": "code",
   "execution_count": 7,
   "outputs": [
    {
     "data": {
      "text/plain": "<Figure size 432x288 with 1 Axes>",
      "image/png": "[encoded data removed]"
     },
     "metadata": {
      "needs_background": "light"
     },
     "output_type": "display_data"
    }
   ],
   "source": [
    "fig, axe = plt.subplots()\n",
    "#==============================================\n",
    "plt.rcParams['font.sans-serif'] = ['SimHei']  # 用来正常显示中文标签，黑体的 name 为 SimHei\n",
    "plt.rcParams['font.size'] = 12  # 设置字体大小\n",
    "plt.rcParams['axes.unicode_minus'] = False  # 用来正常显示负号，跟是否显示中文没关系，你可以考虑加或不加\n",
    "#==============================================\n",
    "index = np.arange(10)\n",
    "# print(index)\n",
    "width = 0.4\n",
    "axe.bar(index, tuple(l2), width, color='c', align='center', label='金牌')\n",
    "axe.bar(index, tuple(l3), width, color='b', align='edge', label='总数')\n",
    "axe.set_xticks(index + width / 4)\n",
    "axe.set_xticklabels(tuple(l1))\n",
    "axe.legend()\n",
    "# 设置标题\n",
    "plt.title('冬奥会奖牌榜', color='#5D7E83')\n",
    "plt.show()"
   ],
   "metadata": {
    "collapsed": false,
    "pycharm": {
     "name": "#%%\n"
    }
   }
  },
  {
   "cell_type": "code",
   "execution_count": 8,
   "metadata": {
    "pycharm": {
     "name": "#%%\n"
    }
   },
   "outputs": [
    {
     "name": "stdout",
     "output_type": "stream",
     "text": [
      "    排名  国家/地区  金牌  银牌  铜牌  总数\n",
      "0    1     挪威  16   8  13  37\n",
      "1    2     德国  12  10   5  27\n",
      "2    3     中国   9   4   2  15\n",
      "3    4     美国   8  10   7  25\n",
      "4    5     瑞典   8   5   5  18\n",
      "5    6     荷兰   8   5   4  17\n",
      "6    7    奥地利   7   7   4  18\n",
      "7    8     瑞士   7   2   5  14\n",
      "8    9    ROC   6  12  14  32\n",
      "9   10     法国   5   7   2  14\n",
      "10  11    加拿大   4   8  14  26\n",
      "11  12     日本   3   6   9  18\n",
      "12  13    意大利   2   7   8  17\n",
      "13  14     韩国   2   5   2   9\n",
      "14  15  斯洛文尼亚   2   3   2   7\n",
      "15  16     芬兰   2   2   4   8\n",
      "16  17    新西兰   2   1   0   3\n",
      "17  18   澳大利亚   1   2   1   4\n",
      "18  19     英国   1   1   0   2\n",
      "19  20    匈牙利   1   0   2   3\n",
      "20  21    比利时   1   0   1   2\n",
      "21  21     捷克   1   0   1   2\n",
      "22  21   斯洛伐克   1   0   1   2\n",
      "23  24   白俄罗斯   0   2   0   2\n",
      "24  25    西班牙   0   1   0   1\n",
      "25  25    乌克兰   0   1   0   1\n",
      "26  27   爱沙尼亚   0   0   1   1\n",
      "27  27   拉脱维亚   0   0   1   1\n",
      "28  27     波兰   0   0   1   1\n"
     ]
    }
   ],
   "source": [
    "# 2.\n",
    "#读取csv文件数据\n",
    "obj = pd.read_csv('./data/冬奥会奖牌榜.csv')\n",
    "print(obj)"
   ]
  },
  {
   "cell_type": "code",
   "execution_count": 9,
   "metadata": {
    "pycharm": {
     "name": "#%%\n"
    }
   },
   "outputs": [
    {
     "data": {
      "text/plain": "29"
     },
     "execution_count": 9,
     "metadata": {},
     "output_type": "execute_result"
    }
   ],
   "source": [
    "#所在的大洲\n",
    "continents = [\"欧洲\", \"欧洲\", \"亚洲\", \"北美洲\", \"欧洲\",\n",
    "              \"欧洲\", \"欧洲\", \"欧洲\", \"欧洲\", \"欧洲\",\n",
    "              \"北美洲\", \"亚洲\", \"欧洲\", \"亚洲\", \"欧洲\",\n",
    "              \"欧洲\", \"大洋洲\", \"大洋洲\", \"欧洲\", \"欧洲\",\n",
    "              \"欧洲\", \"欧洲\", \"欧洲\", \"欧洲\", \"欧洲\",\n",
    "              \"欧洲\", \"欧洲\", \"欧洲\", \"欧洲\"]\n",
    "len(continents)"
   ]
  },
  {
   "cell_type": "code",
   "execution_count": 10,
   "metadata": {
    "pycharm": {
     "name": "#%%\n"
    }
   },
   "outputs": [
    {
     "name": "stdout",
     "output_type": "stream",
     "text": [
      "    排名  国家/地区  金牌  银牌  铜牌  总数   大洲\n",
      "0    1     挪威  16   8  13  37   欧洲\n",
      "1    2     德国  12  10   5  27   欧洲\n",
      "2    3     中国   9   4   2  15   亚洲\n",
      "3    4     美国   8  10   7  25  北美洲\n",
      "4    5     瑞典   8   5   5  18   欧洲\n",
      "5    6     荷兰   8   5   4  17   欧洲\n",
      "6    7    奥地利   7   7   4  18   欧洲\n",
      "7    8     瑞士   7   2   5  14   欧洲\n",
      "8    9    ROC   6  12  14  32   欧洲\n",
      "9   10     法国   5   7   2  14   欧洲\n",
      "10  11    加拿大   4   8  14  26  北美洲\n",
      "11  12     日本   3   6   9  18   亚洲\n",
      "12  13    意大利   2   7   8  17   欧洲\n",
      "13  14     韩国   2   5   2   9   亚洲\n",
      "14  15  斯洛文尼亚   2   3   2   7   欧洲\n",
      "15  16     芬兰   2   2   4   8   欧洲\n",
      "16  17    新西兰   2   1   0   3  大洋洲\n",
      "17  18   澳大利亚   1   2   1   4  大洋洲\n",
      "18  19     英国   1   1   0   2   欧洲\n",
      "19  20    匈牙利   1   0   2   3   欧洲\n",
      "20  21    比利时   1   0   1   2   欧洲\n",
      "21  21     捷克   1   0   1   2   欧洲\n",
      "22  21   斯洛伐克   1   0   1   2   欧洲\n",
      "23  24   白俄罗斯   0   2   0   2   欧洲\n",
      "24  25    西班牙   0   1   0   1   欧洲\n",
      "25  25    乌克兰   0   1   0   1   欧洲\n",
      "26  27   爱沙尼亚   0   0   1   1   欧洲\n",
      "27  27   拉脱维亚   0   0   1   1   欧洲\n",
      "28  27     波兰   0   0   1   1   欧洲\n"
     ]
    }
   ],
   "source": [
    "objLen: int = obj.shape[0]  #获取长度\n",
    "obj.insert(obj.shape[1], '大洲', continents)\n",
    "print(obj)"
   ]
  },
  {
   "cell_type": "code",
   "execution_count": 11,
   "metadata": {
    "pycharm": {
     "name": "#%%\n"
    }
   },
   "outputs": [
    {
     "name": "stdout",
     "output_type": "stream",
     "text": [
      "      排名  金牌  银牌  铜牌   总数\n",
      "大洲                       \n",
      "亚洲    29  14  15  13   42\n",
      "北美洲   15  12  18  21   51\n",
      "大洋洲   35   3   3   1    7\n",
      "欧洲   349  80  73  74  227\n",
      "     金牌\n",
      "大洲     \n",
      "亚洲   14\n",
      "北美洲  12\n",
      "大洋洲   3\n",
      "欧洲   80\n",
      "[14, 12, 3, 80]\n"
     ]
    }
   ],
   "source": [
    "#分组\n",
    "obj_groups = obj.groupby(\"大洲\")\n",
    "# print(list(obj_groups))\n",
    "print(obj_groups.sum())\n",
    "sums = obj_groups.sum().loc[:, ['金牌']]\n",
    "print(sums)\n",
    "list_sums = list(sums['金牌'])\n",
    "print(list_sums)"
   ]
  },
  {
   "cell_type": "code",
   "execution_count": 12,
   "metadata": {
    "pycharm": {
     "name": "#%%\n"
    }
   },
   "outputs": [
    {
     "name": "stdout",
     "output_type": "stream",
     "text": [
      "109\n"
     ]
    }
   ],
   "source": [
    "#计算总共金牌数\n",
    "sum_count = 0\n",
    "for i in list_sums:\n",
    "    sum_count += i\n",
    "print(sum_count)"
   ]
  },
  {
   "cell_type": "code",
   "execution_count": 13,
   "metadata": {
    "pycharm": {
     "name": "#%%\n"
    }
   },
   "outputs": [
    {
     "name": "stdout",
     "output_type": "stream",
     "text": [
      "[0.12844036697247707, 0.11009174311926606, 0.027522935779816515, 0.7339449541284404]\n"
     ]
    }
   ],
   "source": [
    "#统计比例\n",
    "Proportions = []\n",
    "for i in list_sums:\n",
    "    Proportions.insert(len(Proportions), i / sum_count)\n",
    "print(Proportions)"
   ]
  },
  {
   "cell_type": "code",
   "execution_count": 14,
   "metadata": {
    "pycharm": {
     "name": "#%%\n"
    }
   },
   "outputs": [
    {
     "data": {
      "text/plain": "<Figure size 432x288 with 1 Axes>",
      "image/png": "[encoded data removed]"
     },
     "metadata": {},
     "output_type": "display_data"
    }
   ],
   "source": [
    "#构造饼图\n",
    "fig, axe = plt.subplots()\n",
    "labels = [\"亚洲\", \"北美洲\", \"大洋洲\", \"欧洲\"]\n",
    "# explode = (0, 0, 0, 0)\n",
    "colors = ['tomato', 'lightskyblue', 'goldenrod', '#5D7E83']\n",
    "axe.pie(Proportions, colors=colors, labels=labels, autopct='%1.1f%%', shadow=True, startangle=90)\n",
    "axe.axis('equal')\n",
    "axe.set_title('大洲金牌总数统计饼图', color='#5D7E83')\n",
    "plt.show()"
   ]
  },
  {
   "cell_type": "code",
   "execution_count": 15,
   "metadata": {
    "pycharm": {
     "name": "#%%\n"
    }
   },
   "outputs": [
    {
     "name": "stdout",
     "output_type": "stream",
     "text": [
      "    排名 国家/地区  金牌  银牌  铜牌  总数  大洲\n",
      "2    3    中国   9   4   2  15  亚洲\n",
      "11  12    日本   3   6   9  18  亚洲\n",
      "13  14    韩国   2   5   2   9  亚洲\n",
      "   国家/地区  金牌\n",
      "2     中国   9\n",
      "11    日本   3\n",
      "13    韩国   2\n",
      "14\n"
     ]
    }
   ],
   "source": [
    "#3.亚洲金牌总数统计饼图\n",
    "y3 = obj[obj['大洲'] == '亚洲']\n",
    "print(y3)\n",
    "# print(type(y3))\n",
    "y3_name = y3.loc[:, ['国家/地区', '金牌']]\n",
    "print(y3_name)\n",
    "sums_A = y3_name['金牌'].sum()\n",
    "print(sums_A)"
   ]
  },
  {
   "cell_type": "code",
   "execution_count": 16,
   "metadata": {
    "pycharm": {
     "name": "#%%\n"
    }
   },
   "outputs": [
    {
     "name": "stdout",
     "output_type": "stream",
     "text": [
      "[0.6428571428571429, 0.21428571428571427, 0.14285714285714285]\n"
     ]
    },
    {
     "data": {
      "text/plain": "<Figure size 432x288 with 1 Axes>",
      "image/png": "[encoded data removed]"
     },
     "metadata": {},
     "output_type": "display_data"
    }
   ],
   "source": [
    "#构造饼图\n",
    "fig, axe = plt.subplots()\n",
    "colors = ['tomato', 'lightskyblue', 'goldenrod', '#5D7E83']\n",
    "labels = list(y3_name['国家/地区'])\n",
    "data = []\n",
    "for x in y3_name['金牌']:\n",
    "    data.insert(len(data), x / sums_A)\n",
    "print(data)\n",
    "axe.pie(data, colors=colors, labels=labels, autopct='%1.1f%%', shadow=True, startangle=90)\n",
    "axe.axis('equal')\n",
    "axe.set_title('亚洲金牌总数统计饼图')\n",
    "plt.show()"
   ]
  },
  {
   "cell_type": "code",
   "execution_count": 16,
   "metadata": {},
   "outputs": [],
   "source": []
  }
 ],
 "metadata": {
  "kernelspec": {
   "display_name": "Python 3 (ipykernel)",
   "language": "python",
   "name": "python3"
  },
  "language_info": {
   "codemirror_mode": {
    "name": "ipython",
    "version": 3
   },
   "file_extension": ".py",
   "mimetype": "text/x-python",
   "name": "python",
   "nbconvert_exporter": "python",
   "pygments_lexer": "ipython3",
   "version": "3.9.4"
  }
 },
 "nbformat": 4,
 "nbformat_minor": 1
}