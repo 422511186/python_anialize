{
 "cells": [
  {
   "cell_type": "code",
   "execution_count": 18,
   "metadata": {},
   "outputs": [],
   "source": [
    "import matplotlib.pyplot as plt\n",
    "import numpy as np\n",
    "import pandas as pd"
   ]
  },
  {
   "cell_type": "code",
   "execution_count": 10,
   "metadata": {
    "pycharm": {
     "name": "#%%\n"
    }
   },
   "outputs": [],
   "source": [
    "time_range = pd.date_range('1/1/2018', periods=1096)\n",
    "fruits = ['苹果', '西瓜', '橙子', '葡萄', '车厘子', '菠萝', '荔枝', '火龙果']\n",
    "fruit_list = np.random.choice(fruits, size=len(time_range), replace=True)"
   ]
  },
  {
   "cell_type": "code",
   "execution_count": 11,
   "metadata": {
    "pycharm": {
     "name": "#%%\n"
    }
   },
   "outputs": [],
   "source": [
    "names = ['张伟', '王芳', '李静', '王秀英', '李强', '李丽', '刘勇']\n",
    "name_list = np.random.choice(names, size=len(time_range), replace=True)"
   ]
  },
  {
   "cell_type": "code",
   "execution_count": 12,
   "metadata": {
    "pycharm": {
     "name": "#%%\n"
    }
   },
   "outputs": [
    {
     "name": "stdout",
     "output_type": "stream",
     "text": [
      "DatetimeIndex(['2018-01-01', '2018-01-02', '2018-01-03', '2018-01-04',\n",
      "               '2018-01-05', '2018-01-06', '2018-01-07', '2018-01-08',\n",
      "               '2018-01-09', '2018-01-10',\n",
      "               ...\n",
      "               '2020-12-22', '2020-12-23', '2020-12-24', '2020-12-25',\n",
      "               '2020-12-26', '2020-12-27', '2020-12-28', '2020-12-29',\n",
      "               '2020-12-30', '2020-12-31'],\n",
      "              dtype='datetime64[ns]', length=1096, freq='D')\n",
      "['荔枝' '西瓜' '火龙果' ... '火龙果' '火龙果' '西瓜']\n",
      "['王秀英' '张伟' '李强' ... '李静' '张伟' '张伟']\n"
     ]
    }
   ],
   "source": [
    "print(time_range)\n",
    "print(fruit_list)\n",
    "print(name_list)"
   ]
  },
  {
   "cell_type": "code",
   "execution_count": 16,
   "metadata": {
    "pycharm": {
     "name": "#%%\n"
    }
   },
   "outputs": [
    {
     "name": "stdout",
     "output_type": "stream",
     "text": [
      "           time fruit name  weight\n",
      "0    2018-01-01    荔枝  王秀英      78\n",
      "1    2018-01-02    西瓜   张伟      44\n",
      "2    2018-01-03   火龙果   李强      95\n",
      "3    2018-01-04    苹果  王秀英      74\n",
      "4    2018-01-05    橙子   王芳      50\n",
      "...         ...   ...  ...     ...\n",
      "1091 2020-12-27    橙子   李强      76\n",
      "1092 2020-12-28    荔枝   李丽      89\n",
      "1093 2020-12-29   火龙果   李静      78\n",
      "1094 2020-12-30   火龙果   张伟      75\n",
      "1095 2020-12-31    西瓜   张伟      90\n",
      "\n",
      "[1096 rows x 4 columns]\n"
     ]
    }
   ],
   "source": [
    "order = pd.DataFrame({\n",
    "    'time': time_range,\n",
    "    'fruit': fruit_list,\n",
    "    'name': name_list,\n",
    "    'weight': np.random.choice(list(range(40, 100)), size=len(time_range), replace=True)\n",
    "})\n",
    "print(order)"
   ]
  },
  {
   "cell_type": "code",
   "execution_count": 17,
   "outputs": [
    {
     "name": "stdout",
     "output_type": "stream",
     "text": [
      "  fruit  price region\n",
      "0    苹果    5.8     华南\n",
      "1    西瓜    5.0     东北\n",
      "2    橙子    8.8     西北\n",
      "3    葡萄   12.0     华中\n",
      "4   车厘子   25.2     西北\n",
      "5    菠萝    9.9     华南\n",
      "6    荔枝   15.8     华北\n",
      "7   火龙果    7.0     华中\n"
     ]
    }
   ],
   "source": [
    "information = pd.DataFrame({\n",
    "    'fruit': fruits,\n",
    "    'price': [5.8, 5, 8.8, 12, 25.2, 9.9, 15.8, 7],\n",
    "    'region': ['华南', '东北', '西北', '华中', '西北', '华南', '华北', '华中']\n",
    "})\n",
    "print(information)"
   ],
   "metadata": {
    "collapsed": false,
    "pycharm": {
     "name": "#%%\n"
    }
   }
  },
  {
   "cell_type": "code",
   "execution_count": 21,
   "outputs": [],
   "source": [
    "df = pd.merge(order, information, how='outer').sort_values('time').reset_index(drop=True)\n",
    "df['amount'] = df['weight'] * df['price']"
   ],
   "metadata": {
    "collapsed": false,
    "pycharm": {
     "name": "#%%\n"
    }
   }
  },
  {
   "cell_type": "code",
   "execution_count": 80,
   "outputs": [
    {
     "name": "stdout",
     "output_type": "stream",
     "text": [
      "           time fruit name  weight  price region  amount  year  month  \\\n",
      "0    2018-01-01    荔枝  王秀英      78   15.8     华北  1232.4  2018      1   \n",
      "1    2018-01-02    西瓜   张伟      44    5.0     东北   220.0  2018      1   \n",
      "2    2018-01-03   火龙果   李强      95    7.0     华中   665.0  2018      1   \n",
      "3    2018-01-04    苹果  王秀英      74    5.8     华南   429.2  2018      1   \n",
      "4    2018-01-05    橙子   王芳      50    8.8     西北   440.0  2018      1   \n",
      "...         ...   ...  ...     ...    ...    ...     ...   ...    ...   \n",
      "1091 2020-12-27    橙子   李强      76    8.8     西北   668.8  2020     12   \n",
      "1092 2020-12-28    荔枝   李丽      89   15.8     华北  1406.2  2020     12   \n",
      "1093 2020-12-29   火龙果   李静      78    7.0     华中   546.0  2020     12   \n",
      "1094 2020-12-30   火龙果   张伟      75    7.0     华中   525.0  2020     12   \n",
      "1095 2020-12-31    西瓜   张伟      90    5.0     东北   450.0  2020     12   \n",
      "\n",
      "     year_month  \n",
      "0        201801  \n",
      "1        201801  \n",
      "2        201801  \n",
      "3        201801  \n",
      "4        201801  \n",
      "...         ...  \n",
      "1091     202012  \n",
      "1092     202012  \n",
      "1093     202012  \n",
      "1094     202012  \n",
      "1095     202012  \n",
      "\n",
      "[1096 rows x 10 columns]\n"
     ]
    }
   ],
   "source": [
    "print(df)\n",
    "df.to_csv('test.csv')"
   ],
   "metadata": {
    "collapsed": false,
    "pycharm": {
     "name": "#%%\n"
    }
   }
  },
  {
   "cell_type": "code",
   "execution_count": 86,
   "outputs": [],
   "source": [
    "df['year'] = df['time'].dt.year\n",
    "df['month'] = df['time'].dt.month\n",
    "df['year_month'] = df['time'].dt.strftime('%Y%m')"
   ],
   "metadata": {
    "collapsed": false,
    "pycharm": {
     "name": "#%%\n"
    }
   }
  },
  {
   "cell_type": "code",
   "execution_count": 87,
   "outputs": [
    {
     "data": {
      "text/plain": "Index(['201801', '201802', '201803', '201804', '201805', '201806', '201807',\n       '201808', '201809', '201810', '201811', '201812', '201901', '201902',\n       '201903', '201904', '201905', '201906', '201907', '201908', '201909',\n       '201910', '201911', '201912', '202001', '202002', '202003', '202004',\n       '202005', '202006', '202007', '202008', '202009', '202010', '202011',\n       '202012'],\n      dtype='object', name='year_month')"
     },
     "execution_count": 87,
     "metadata": {},
     "output_type": "execute_result"
    }
   ],
   "source": [
    "xx = df.groupby('year_month')['amount'].sum()\n",
    "xx.index"
   ],
   "metadata": {
    "collapsed": false,
    "pycharm": {
     "name": "#%%\n"
    }
   }
  },
  {
   "cell_type": "code",
   "execution_count": 88,
   "outputs": [
    {
     "data": {
      "text/plain": "<Figure size 432x288 with 1 Axes>",
      "image/png": "[encoded data removed]"
     },
     "metadata": {
      "needs_background": "light"
     },
     "output_type": "display_data"
    }
   ],
   "source": [
    "fig, axe = plt.subplots()\n",
    "#==============================================\n",
    "plt.rcParams['font.sans-serif'] = ['SimHei']  # 用来正常显示中文标签，黑体的 name 为 SimHei\n",
    "plt.rcParams['font.size'] = 12  # 设置字体大小\n",
    "plt.rcParams['axes.unicode_minus'] = False  # 用来正常显示负号，跟是否显示中文没关系，你可以考虑加或不加\n",
    "#==============================================\n",
    "index = np.arange(10)\n",
    "# print(index)\n",
    "width = 0.4\n",
    "axe.bar(xx.index, xx, width, color='c', align='center', label='销售额')\n",
    "# axe.bar(df['year_month'] , tuple(l3), width, color='b', align='edge', label='总数')\n",
    "# axe.set_xticks(index + width)\n",
    "# axe.set_xticklabels(tuple(l1))\n",
    "axe.legend()\n",
    "# 设置标题\n",
    "plt.title('月销售额', color='#5D7E83')\n",
    "plt.show()"
   ],
   "metadata": {
    "collapsed": false,
    "pycharm": {
     "name": "#%%\n"
    }
   }
  },
  {
   "cell_type": "code",
   "execution_count": 161,
   "outputs": [
    {
     "name": "stdout",
     "output_type": "stream",
     "text": [
      "year  fruit\n",
      "2018  橙子        30932.0\n",
      "      火龙果       19432.0\n",
      "      苹果        21251.2\n",
      "      荔枝        57796.4\n",
      "      菠萝        18849.6\n",
      "      葡萄        31140.0\n",
      "      西瓜        15850.0\n",
      "      车厘子      103622.4\n",
      "2019  橙子        22387.2\n",
      "      火龙果       27356.0\n",
      "      苹果        16019.6\n",
      "      荔枝        40053.0\n",
      "      菠萝        31353.3\n",
      "      葡萄        53880.0\n",
      "      西瓜        12290.0\n",
      "      车厘子       77918.4\n",
      "2020  橙子        37963.2\n",
      "      火龙果       21686.0\n",
      "      苹果        20862.6\n",
      "      荔枝        44429.6\n",
      "      菠萝        31165.2\n",
      "      葡萄        30168.0\n",
      "      西瓜        12630.0\n",
      "      车厘子       90468.0\n",
      "Name: amount, dtype: float64\n",
      "[30932.000000000004, 19432.0, 21251.200000000008, 57796.399999999994, 18849.599999999995, 31140.0, 15850.0, 103622.4, 22387.199999999993, 27356.0, 16019.599999999999, 40053.0, 31353.30000000001, 53880.0, 12290.0, 77918.4, 37963.200000000004, 21686.0, 20862.6, 44429.6, 31165.200000000008, 30168.0, 12630.0, 90467.99999999999]\n"
     ]
    }
   ],
   "source": [
    "year_fruit = df.groupby(['year', 'fruit'])['amount'].sum()\n",
    "# type(year_fruit.index)\n",
    "print(year_fruit)\n",
    "# # 水果种类\n",
    "listNames = []\n",
    "for i in year_fruit[2018].index:\n",
    "    listNames.append(i)\n",
    "listNames\n",
    "# print(df.groupby(['year'])['amount'].sum())\n",
    "\n"
   ],
   "metadata": {
    "collapsed": false,
    "pycharm": {
     "name": "#%%\n"
    }
   }
  },
  {
   "cell_type": "code",
   "execution_count": 154,
   "outputs": [
    {
     "ename": "TypeError",
     "evalue": "unsupported operand type(s) for +=: 'float' and 'str'",
     "output_type": "error",
     "traceback": [
      "\u001B[1;31m---------------------------------------------------------------------------\u001B[0m",
      "\u001B[1;31mTypeError\u001B[0m                                 Traceback (most recent call last)",
      "Input \u001B[1;32mIn [154]\u001B[0m, in \u001B[0;36m<cell line: 3>\u001B[1;34m()\u001B[0m\n\u001B[0;32m      2\u001B[0m sum_count \u001B[38;5;241m=\u001B[39m \u001B[38;5;241m298873.6\u001B[39m\n\u001B[0;32m      3\u001B[0m \u001B[38;5;28;01mfor\u001B[39;00m i \u001B[38;5;129;01min\u001B[39;00m year_fruit:\n\u001B[1;32m----> 4\u001B[0m     sum_count \u001B[38;5;241m+\u001B[39m\u001B[38;5;241m=\u001B[39m i\n\u001B[0;32m      5\u001B[0m \u001B[38;5;28mprint\u001B[39m(sum_count)\n\u001B[0;32m      6\u001B[0m \u001B[38;5;66;03m#统计比例\u001B[39;00m\n",
      "\u001B[1;31mTypeError\u001B[0m: unsupported operand type(s) for +=: 'float' and 'str'"
     ]
    }
   ],
   "source": [
    "#计算总共总数\n",
    "sum_count = 298873.6\n",
    "for i in year_fruit:\n",
    "    sum_count += i\n",
    "print(sum_count)\n",
    "#统计比例\n",
    "Proportions = []\n",
    "for i in year_fruit:\n",
    "    Proportions.insert(len(Proportions), i / sum_count)\n",
    "print(Proportions)"
   ],
   "metadata": {
    "collapsed": false,
    "pycharm": {
     "name": "#%%\n"
    }
   }
  },
  {
   "cell_type": "code",
   "execution_count": null,
   "outputs": [],
   "source": [
    "#构造饼图\n",
    "fig, axe = plt.subplots()\n",
    "labels = listNames\n",
    "# explode = (0, 0, 0, 0)\n",
    "colors = ['tomato', 'lightskyblue', 'goldenrod', '#5D7E83']\n",
    "axe.pie(Proportions, colors=colors, labels=labels, autopct='%1.1f%%', shadow=True, startangle=90)\n",
    "axe.axis('equal')\n",
    "axe.set_title('2018饼图', color='#5D7E83')\n",
    "plt.show()"
   ],
   "metadata": {
    "collapsed": false,
    "pycharm": {
     "name": "#%%\n"
    }
   }
  },
  {
   "cell_type": "markdown",
   "source": [],
   "metadata": {
    "collapsed": false,
    "pycharm": {
     "name": "#%% md\n"
    }
   }
  },
  {
   "cell_type": "code",
   "execution_count": 156,
   "outputs": [
    {
     "name": "stdout",
     "output_type": "stream",
     "text": [
      "          amount\n",
      "year            \n",
      "2018  818.831781\n",
      "2019  770.568493\n",
      "2020  790.635519\n"
     ]
    }
   ],
   "source": [
    "aver = [col for col in df.columns if col  in['amount']]\n",
    "df_mean = df.groupby(df[\"year\"])[aver].mean()\n",
    "print(df_mean)\n"
   ],
   "metadata": {
    "collapsed": false,
    "pycharm": {
     "name": "#%%\n"
    }
   }
  },
  {
   "cell_type": "markdown",
   "source": [],
   "metadata": {
    "collapsed": false,
    "pycharm": {
     "name": "#%% md\n"
    }
   }
  }
 ],
 "metadata": {
  "kernelspec": {
   "display_name": "Python 3 (ipykernel)",
   "language": "python",
   "name": "python3"
  },
  "language_info": {
   "codemirror_mode": {
    "name": "ipython",
    "version": 3
   },
   "file_extension": ".py",
   "mimetype": "text/x-python",
   "name": "python",
   "nbconvert_exporter": "python",
   "pygments_lexer": "ipython3",
   "version": "3.9.4"
  }
 },
 "nbformat": 4,
 "nbformat_minor": 1
}